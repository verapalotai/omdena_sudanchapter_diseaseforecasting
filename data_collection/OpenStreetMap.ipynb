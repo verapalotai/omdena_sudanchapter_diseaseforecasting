{
 "cells": [
  {
   "cell_type": "markdown",
   "id": "e446e1f9-c154-4bd8-bd4f-97d465193577",
   "metadata": {},
   "source": [
    "# Open Street Map\n",
    "\n",
    "Sources:\n",
    "- [API Documentation](https://wiki.openstreetmap.org/wiki/API_v0.6)"
   ]
  },
  {
   "cell_type": "code",
   "execution_count": 3,
   "id": "23fd1a57-3f5f-41b0-b2de-98b0dd13a2fa",
   "metadata": {},
   "outputs": [],
   "source": [
    "!pip install -q osmnx"
   ]
  },
  {
   "cell_type": "code",
   "execution_count": 2,
   "id": "3742c322-d788-4a77-b647-3782e227bd93",
   "metadata": {},
   "outputs": [],
   "source": [
    "import requests\n",
    "import osmnx as ox\n",
    "import geopandas as gpd\n",
    "from tqdm import tqdm\n",
    "from shapely.geometry import Point"
   ]
  },
  {
   "cell_type": "code",
   "execution_count": 3,
   "id": "2d264362-92c2-46c1-8928-bce0678f2d57",
   "metadata": {},
   "outputs": [],
   "source": [
    "tqdm.pandas()"
   ]
  },
  {
   "cell_type": "markdown",
   "id": "4de23f6a-1f41-4c67-8cf5-2a06e8d64b4f",
   "metadata": {},
   "source": [
    "## Load data"
   ]
  },
  {
   "cell_type": "code",
   "execution_count": 5,
   "id": "31297db2-39b8-4a9a-99e7-058f7884ecfd",
   "metadata": {},
   "outputs": [],
   "source": [
    "gdf = gpd.read_file(\"data/administrative_boundaries/gadm/gadm41_SDN_2.json\")"
   ]
  },
  {
   "cell_type": "markdown",
   "id": "29e15d93-f2db-427f-8997-313e780002c2",
   "metadata": {},
   "source": [
    "## Extract lat-long from multipolygon format"
   ]
  },
  {
   "cell_type": "code",
   "execution_count": 10,
   "id": "e3773cd7-6c15-4f92-9ee9-6254ce4dfa49",
   "metadata": {},
   "outputs": [],
   "source": [
    "# Ensure geometries are in EPSG:4326 (lat/lon)\n",
    "gdf = gdf.to_crs(epsg=4326)"
   ]
  },
  {
   "cell_type": "code",
   "execution_count": 12,
   "id": "f66e7355-1367-4d28-98f2-f223c68076b0",
   "metadata": {},
   "outputs": [],
   "source": [
    "def convert_coordinates_format(geometry):\n",
    "    \"\"\"\n",
    "    Convert coordinates from GeoDataFrame geometry (tuple format) to the required format.\n",
    "    \n",
    "    Parameters:\n",
    "        geometry (shapely.geometry): The geometry object (Polygon or MultiPolygon).\n",
    "        \n",
    "    Returns:\n",
    "        list: Coordinates in the required format, i.e., a list of lists of [longitude, latitude].\n",
    "    \"\"\"\n",
    "    if geometry.geom_type == 'MultiPolygon':\n",
    "        # convert each Polygon within the MultiPolygon to the required format\n",
    "        return [\n",
    "            [list(polygon.exterior.coords) for polygon in geometry.geoms]\n",
    "        ]\n",
    "    elif geometry.geom_type == 'Polygon':\n",
    "        # convert the Polygon to the required format\n",
    "        return [list(geometry.exterior.coords)]\n",
    "    else:\n",
    "        return []"
   ]
  },
  {
   "cell_type": "code",
   "execution_count": 14,
   "id": "541edf15-28bf-42e4-bf26-cc7f43a09605",
   "metadata": {},
   "outputs": [
    {
     "name": "stderr",
     "output_type": "stream",
     "text": [
      "100%|██████████| 80/80 [00:00<00:00, 3541.10it/s]\n"
     ]
    }
   ],
   "source": [
    "gdf[\"coordinates\"] = gdf[\"geometry\"].progress_apply(lambda x: convert_coordinates_format(x))"
   ]
  },
  {
   "cell_type": "code",
   "execution_count": 16,
   "id": "03e049f0-b8bb-44bd-810e-0f2edacd7066",
   "metadata": {},
   "outputs": [],
   "source": [
    "def get_centroid_coordinates(gdf):\n",
    "    \"\"\"\n",
    "    Get the centroid of each region in the GeoDataFrame.\n",
    "    \n",
    "    Args:\n",
    "    - gdf (GeoDataFrame): A GeoDataFrame with polygon or multipolygon geometries.\n",
    "    \n",
    "    Returns:\n",
    "    - list: A list of (latitude, longitude) tuples for each region's centroid.\n",
    "    \"\"\"\n",
    "    centroids = []\n",
    "    \n",
    "    for _, row in gdf.iterrows():\n",
    "        geometry = row['geometry']\n",
    "        \n",
    "        if geometry.is_valid:\n",
    "            centroid = geometry.centroid\n",
    "            centroids.append((centroid.y, centroid.x))  # (lat, lon)\n",
    "    \n",
    "    return centroids"
   ]
  },
  {
   "cell_type": "code",
   "execution_count": 18,
   "id": "61f69b71-7fff-4704-8dba-89212f4ac82b",
   "metadata": {},
   "outputs": [],
   "source": [
    "gdf[\"centroid_coordinates\"] = get_centroid_coordinates(gdf)"
   ]
  },
  {
   "cell_type": "markdown",
   "id": "2859916c-c336-49b8-8fe4-cd495bff0ad1",
   "metadata": {},
   "source": [
    "## Extract OSM data"
   ]
  },
  {
   "cell_type": "code",
   "execution_count": 21,
   "id": "a4e1bc7a-4b26-4071-81b8-8eca3356612f",
   "metadata": {},
   "outputs": [],
   "source": [
    "def get_bbox_from_multipolygon(multipolygon):\n",
    "    \"\"\"\n",
    "    Calculate the bounding box (BBOX) from a GeoPandas multipolygon geometry.\n",
    "    \n",
    "    Parameters:\n",
    "        multipolygon (shapely.geometry.multipolygon.MultiPolygon): The multipolygon geometry.\n",
    "    \n",
    "    Returns:\n",
    "        list: Bounding box in the format [min_lat, min_lon, max_lat, max_lon].\n",
    "    \"\"\"\n",
    "    bounds = multipolygon.bounds  # [min_lon, min_lat, max_lon, max_lat]\n",
    "    return [bounds[1], bounds[0], bounds[3], bounds[2]]  # Reorder to [min_lat, min_lon, max_lat, max_lon]"
   ]
  },
  {
   "cell_type": "code",
   "execution_count": 23,
   "id": "403f80ca-8370-4845-90c2-30ecff652e36",
   "metadata": {},
   "outputs": [],
   "source": [
    "def fetch_node_coordinates(node_ids, chunk_size=50):\n",
    "    \"\"\"\n",
    "    Fetch coordinates for a list of node IDs from OpenStreetMap using the Overpass API.\n",
    "    \n",
    "    Parameters:\n",
    "        node_ids (list): List of node IDs to retrieve coordinates for.\n",
    "        chunk_size (int): The number of node IDs to query in each request. Default is 50.\n",
    "        \n",
    "    Returns:\n",
    "        list: A list of coordinates (lat, lon) for each node.\n",
    "    \"\"\"\n",
    "    overpass_url = \"https://overpass-api.de/api/interpreter\"\n",
    "    coordinates = []\n",
    "    \n",
    "    # Split the node IDs into chunks of size chunk_size\n",
    "    for i in range(0, len(node_ids), chunk_size):\n",
    "        chunk = node_ids[i:i + chunk_size]\n",
    "        \n",
    "        # Create Overpass query for each chunk of nodes\n",
    "        query = f\"\"\"\n",
    "        [out:json];\n",
    "        node({','.join(map(str, chunk))});\n",
    "        out body;\n",
    "        \"\"\"\n",
    "        print(f\"Querying for nodes: {chunk}\")\n",
    "        print(f\"Query: {query}\")\n",
    "        \n",
    "        response = requests.get(overpass_url, params={'data': query})\n",
    "        \n",
    "        if response.status_code == 200:\n",
    "            # Extract node data and store coordinates\n",
    "            node_data = response.json()\n",
    "            nodes = {node['id']: (node['lat'], node['lon']) for node in node_data['elements']}\n",
    "            \n",
    "            # Append the coordinates of nodes that were found\n",
    "            coordinates.extend([nodes[node_id] for node_id in chunk if node_id in nodes])\n",
    "        else:\n",
    "            print(f\"Failed to fetch data for nodes {chunk}. Status code: {response.status_code}\")\n",
    "    \n",
    "    return coordinates"
   ]
  },
  {
   "cell_type": "code",
   "execution_count": 25,
   "id": "8927c323-587b-46f5-93ba-01af0f0b395b",
   "metadata": {},
   "outputs": [],
   "source": [
    "def get_osm_data_from_bbox(bbox):\n",
    "    \"\"\"\n",
    "    Fetch infrastructure and roads data from OSM using Overpass API for a given BBOX.\n",
    "    \n",
    "    Parameters:\n",
    "        bbox (list): Bounding box in the format [min_lat, min_lon, max_lat, max_lon].\n",
    "    \n",
    "    Returns:\n",
    "        dict: JSON response from the Overpass API containing OSM data.\n",
    "    \"\"\"\n",
    "    overpass_url = \"https://overpass-api.de/api/interpreter\"\n",
    "    # Overpass QL query for roads and infrastructure within the BBOX\n",
    "    query = f\"\"\"\n",
    "    [out:json];\n",
    "    (\n",
    "      way[\"highway\"]({bbox[0]},{bbox[1]},{bbox[2]},{bbox[3]});\n",
    "      way[\"railway\"]({bbox[0]},{bbox[1]},{bbox[2]},{bbox[3]});\n",
    "      way[\"waterway\"]({bbox[0]},{bbox[1]},{bbox[2]},{bbox[3]});\n",
    "    );\n",
    "    out body;\n",
    "    >;\n",
    "    out skel qt;\n",
    "    \"\"\"\n",
    "    response = requests.get(overpass_url, params={'data': query})\n",
    "    if response.status_code == 200:\n",
    "        osm_data = response.json()\n",
    "        return osm_data.get('elements', [])\n",
    "    else:\n",
    "        response.raise_for_status()"
   ]
  },
  {
   "cell_type": "code",
   "execution_count": 27,
   "id": "cb0e2dc9-1cda-4f79-914a-4948801cf3b8",
   "metadata": {},
   "outputs": [],
   "source": [
    "osm_data = list()"
   ]
  },
  {
   "cell_type": "code",
   "execution_count": 29,
   "id": "2a1b9f9f-1bfa-40a9-895e-ef99561ebd6d",
   "metadata": {},
   "outputs": [
    {
     "name": "stderr",
     "output_type": "stream",
     "text": [
      "100%|██████████| 80/80 [02:15<00:00,  1.69s/it]\n"
     ]
    }
   ],
   "source": [
    "for _, row in tqdm(gdf.iterrows(), total=gdf.shape[0]):\n",
    "    multipolygon = row['geometry']\n",
    "    bbox = get_bbox_from_multipolygon(multipolygon)\n",
    "    osm_data.append(get_osm_data_from_bbox(bbox)) "
   ]
  },
  {
   "cell_type": "code",
   "execution_count": 30,
   "id": "aed0a756-41ab-4aa3-8282-03264b12d08b",
   "metadata": {},
   "outputs": [],
   "source": [
    "gdf[\"osm_data\"] = osm_data"
   ]
  },
  {
   "cell_type": "markdown",
   "id": "8ce160b7-b74e-4854-8349-cd7f4698f1be",
   "metadata": {},
   "source": [
    "## Saving the data"
   ]
  },
  {
   "cell_type": "code",
   "execution_count": 32,
   "id": "a6b89383-6276-40c9-b740-469f5a646296",
   "metadata": {},
   "outputs": [],
   "source": [
    "gdf.drop(columns='geometry').to_csv('data/openstreetmap/openstreetmap_sdn_by_state_district.csv', index=False)"
   ]
  },
  {
   "cell_type": "code",
   "execution_count": 33,
   "id": "f8223e80-b889-41a4-bd74-5f00437f936b",
   "metadata": {},
   "outputs": [],
   "source": [
    "gdf.drop(columns='geometry').to_json('data/openstreetmap/openstreetmap_sdn_by_state_district.json', orient='records')"
   ]
  },
  {
   "cell_type": "code",
   "execution_count": 34,
   "id": "489176a3-0e79-4897-b7bb-12ac5d086ad0",
   "metadata": {},
   "outputs": [],
   "source": [
    "gdf.to_file(\"data/openstreetmap/openstreetmap_sdn_by_state_district.geojson\", driver=\"GeoJSON\")"
   ]
  }
 ],
 "metadata": {
  "kernelspec": {
   "display_name": "Python [conda env:base] *",
   "language": "python",
   "name": "conda-base-py"
  },
  "language_info": {
   "codemirror_mode": {
    "name": "ipython",
    "version": 3
   },
   "file_extension": ".py",
   "mimetype": "text/x-python",
   "name": "python",
   "nbconvert_exporter": "python",
   "pygments_lexer": "ipython3",
   "version": "3.12.7"
  }
 },
 "nbformat": 4,
 "nbformat_minor": 5
}
