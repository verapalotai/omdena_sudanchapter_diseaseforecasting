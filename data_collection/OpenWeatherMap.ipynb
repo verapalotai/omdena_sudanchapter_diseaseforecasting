{
 "cells": [
  {
   "cell_type": "markdown",
   "id": "6a193798-9719-4c5a-90aa-b7fbbcc7dd51",
   "metadata": {},
   "source": [
    "# Open Weather Map\n",
    "\n",
    "OpenWeather provides weather data for any location on the globe using a proprietary ML-powerd hyperlocal forecasting model with resolution from 500 m to 2 km, globally.\n",
    "\n",
    "Sources:\n",
    "- [API Documentation](https://openweathermap.org/api)"
   ]
  },
  {
   "cell_type": "code",
   "execution_count": 308,
   "id": "efeebf57-3e2c-4109-821f-1a6ec754ecbf",
   "metadata": {},
   "outputs": [],
   "source": [
    "import requests\n",
    "import time\n",
    "import pandas as pd\n",
    "import geopandas as gpd\n",
    "from tqdm import tqdm\n",
    "from datetime import datetime, timedelta\n",
    "from shapely.geometry import MultiPolygon\n",
    "from getpass import getpass"
   ]
  },
  {
   "cell_type": "code",
   "execution_count": 28,
   "id": "b7144672-f104-4d20-a604-6bbe1bc1a554",
   "metadata": {},
   "outputs": [],
   "source": [
    "tqdm.pandas()"
   ]
  },
  {
   "cell_type": "markdown",
   "id": "4b06bb9b-d908-49de-ba1e-543e6a85d864",
   "metadata": {},
   "source": [
    "## Load data"
   ]
  },
  {
   "cell_type": "code",
   "execution_count": 142,
   "id": "fb8ec603-3f7b-4150-b1de-7020734261b7",
   "metadata": {},
   "outputs": [],
   "source": [
    "gdf = gpd.read_file(\"data/administrative_boundaries/gadm/gadm41_SDN_1.json\")"
   ]
  },
  {
   "cell_type": "markdown",
   "id": "74ea6c66-029b-4e84-bcda-f1f1dec757c9",
   "metadata": {},
   "source": [
    "## Extract lat-long from multipolygon format"
   ]
  },
  {
   "cell_type": "code",
   "execution_count": 145,
   "id": "5b29e7a7-eee9-4e0e-9473-31ca7367dfba",
   "metadata": {},
   "outputs": [],
   "source": [
    "# Ensure geometries are in EPSG:4326 (lat/lon)\n",
    "gdf = gdf.to_crs(epsg=4326)"
   ]
  },
  {
   "cell_type": "code",
   "execution_count": 147,
   "id": "a6c6aa4e-9fba-40ab-ae4f-daf7101fc9cf",
   "metadata": {},
   "outputs": [],
   "source": [
    "def convert_coordinates_format(geometry):\n",
    "    \"\"\"\n",
    "    Convert coordinates from GeoDataFrame geometry (tuple format) to the required format.\n",
    "    \n",
    "    Parameters:\n",
    "        geometry (shapely.geometry): The geometry object (Polygon or MultiPolygon).\n",
    "        \n",
    "    Returns:\n",
    "        list: Coordinates in the required format, i.e., a list of lists of [longitude, latitude].\n",
    "    \"\"\"\n",
    "    if geometry.geom_type == 'MultiPolygon':\n",
    "        # convert each Polygon within the MultiPolygon to the required format\n",
    "        return [\n",
    "            [list(polygon.exterior.coords) for polygon in geometry.geoms]\n",
    "        ]\n",
    "    elif geometry.geom_type == 'Polygon':\n",
    "        # convert the Polygon to the required format\n",
    "        return [list(geometry.exterior.coords)]\n",
    "    else:\n",
    "        return []"
   ]
  },
  {
   "cell_type": "code",
   "execution_count": 149,
   "id": "aba00780-3156-495e-b67b-a69b822ce004",
   "metadata": {},
   "outputs": [
    {
     "name": "stderr",
     "output_type": "stream",
     "text": [
      "100%|██████████| 18/18 [00:00<00:00, 1400.80it/s]\n"
     ]
    }
   ],
   "source": [
    "gdf[\"coordinates\"] = gdf[\"geometry\"].progress_apply(lambda x: convert_coordinates_format(x))"
   ]
  },
  {
   "cell_type": "markdown",
   "id": "483fbc72-ea46-44fa-b922-70f4497109eb",
   "metadata": {},
   "source": [
    "The OpenWeatherMap API expects a single latitude and longitude point, so it's necessary to calculate the central point (centroid) of the polygon or use representative points from the coordinates."
   ]
  },
  {
   "cell_type": "code",
   "execution_count": 152,
   "id": "d3d3866a-0f98-4cae-8f27-452bb1644fe7",
   "metadata": {},
   "outputs": [],
   "source": [
    "def get_centroid_coordinates(gdf):\n",
    "    \"\"\"\n",
    "    Get the centroid of each region in the GeoDataFrame.\n",
    "    \n",
    "    Args:\n",
    "    - gdf (GeoDataFrame): A GeoDataFrame with polygon or multipolygon geometries.\n",
    "    \n",
    "    Returns:\n",
    "    - list: A list of (latitude, longitude) tuples for each region's centroid.\n",
    "    \"\"\"\n",
    "    centroids = []\n",
    "    \n",
    "    for _, row in gdf.iterrows():\n",
    "        geometry = row['geometry']\n",
    "        \n",
    "        if geometry.is_valid:\n",
    "            centroid = geometry.centroid\n",
    "            centroids.append((centroid.y, centroid.x))  # (lat, lon)\n",
    "    \n",
    "    return centroids"
   ]
  },
  {
   "cell_type": "code",
   "execution_count": 154,
   "id": "1c89c112-8565-4a84-8f51-14c1d5f770ec",
   "metadata": {},
   "outputs": [],
   "source": [
    "gdf[\"centroid_coordinates\"] = get_centroid_coordinates(gdf)"
   ]
  },
  {
   "cell_type": "markdown",
   "id": "f9f8d212-b469-4ab6-902e-f6c0ce4bd87c",
   "metadata": {},
   "source": [
    "## Get weather data\n",
    "\n",
    "Example API call: ```https://api.openweathermap.org/data/3.0/onecall/day_summary?lat={lat}&lon={lon}&date={date}&appid={API key}```\n",
    "\n",
    "Example response:\n",
    "```\n",
    "{\n",
    "   \"lat\":33,\n",
    "   \"lon\":35,\n",
    "   \"tz\":\"+02:00\",\n",
    "   \"date\":\"2020-03-04\",\n",
    "   \"units\":\"standard\",\n",
    "   \"cloud_cover\":{\n",
    "      \"afternoon\":0\n",
    "   },\n",
    "   \"humidity\":{\n",
    "      \"afternoon\":33\n",
    "   },\n",
    "   \"precipitation\":{\n",
    "      \"total\":0\n",
    "   },\n",
    "   \"temperature\":{\n",
    "      \"min\":286.48,\n",
    "      \"max\":299.24,\n",
    "      \"afternoon\":296.15,\n",
    "      \"night\":289.56,\n",
    "      \"evening\":295.93,\n",
    "      \"morning\":287.59\n",
    "   },\n",
    "   \"pressure\":{\n",
    "      \"afternoon\":1015\n",
    "   },\n",
    "   \"wind\":{\n",
    "      \"max\":{\n",
    "         \"speed\":8.7,\n",
    "         \"direction\":120\n",
    "      }\n",
    "   }\n",
    "}                \n",
    "```"
   ]
  },
  {
   "cell_type": "code",
   "execution_count": 310,
   "id": "e7ce3174-4818-4fee-91eb-2882c04e474a",
   "metadata": {},
   "outputs": [
    {
     "name": "stdin",
     "output_type": "stream",
     "text": [
      "OpenWeatherMap API key:  ········\n"
     ]
    }
   ],
   "source": [
    "API_KEY = getpass.getpass(\"OpenWeatherMap API key: \")\n",
    "BASE_URL = \"https://api.openweathermap.org/data/3.0/onecall/day_summary\""
   ]
  },
  {
   "cell_type": "code",
   "execution_count": 178,
   "id": "02c111cd-ae9e-4e0c-b84c-e78ead661297",
   "metadata": {},
   "outputs": [],
   "source": [
    "def get_daily_weather(lat, lon, date, tz):\n",
    "    \"\"\"\n",
    "    Requests daily weather data (temperature and precipitation) for a given latitude, longitude, date, and timezone.\n",
    "    \n",
    "    Args:\n",
    "    - lat (float): Latitude coordinate.\n",
    "    - lon (float): Longitude coordinate.\n",
    "    - date (str): Date in 'YYYY-MM-DD' format.\n",
    "    - tz (str): Timezone for the location.\n",
    "    \n",
    "    Returns:\n",
    "    - dict: A dictionary containing temperature and precipitation data or an error message.\n",
    "    \"\"\"\n",
    "    params = {\n",
    "        'lat': lat,\n",
    "        'lon': lon,\n",
    "        'date': date,  \n",
    "        'tz': tz, \n",
    "        'appid': API_KEY,\n",
    "        'units': 'metric' \n",
    "    }\n",
    "    \n",
    "    response = requests.get(BASE_URL, params=params)\n",
    "    \n",
    "    if response.status_code == 200:\n",
    "        data = response.json()\n",
    "        \n",
    "        return {\n",
    "            'latitude': lat,\n",
    "            'longitude': lon,\n",
    "            'date': date,\n",
    "            'data': data\n",
    "        }\n",
    "    else:\n",
    "        return {\n",
    "            'latitude': lat,\n",
    "            'longitude': lon,\n",
    "            'date': date,\n",
    "            'error': response.json().get('message', 'Failed to fetch data')\n",
    "        }"
   ]
  },
  {
   "cell_type": "code",
   "execution_count": 187,
   "id": "db3d167a-4ebf-4db6-a8f7-e4b40f57066e",
   "metadata": {},
   "outputs": [],
   "source": [
    "def fetch_weather_for_geodataframe(gdf, start_date, end_date):\n",
    "    \"\"\"\n",
    "    Fetch weather data for each row in a GeoPandas DataFrame.\n",
    "    \n",
    "    Args:\n",
    "    - gdf (GeoDataFrame): A GeoPandas DataFrame with columns 'lat', 'lon', and 'tz'.\n",
    "    - start_date (str): Start date in 'YYYY-MM-DD' format.\n",
    "    - end_date (str): End date in 'YYYY-MM-DD' format.\n",
    "    \n",
    "    Returns:\n",
    "    - DataFrame: A DataFrame containing weather data for each location and day.\n",
    "    \"\"\"\n",
    "    weather_records = []\n",
    "    \n",
    "    start_date = datetime.strptime(start_date, '%Y-%m-%d')\n",
    "    end_date = datetime.strptime(end_date, '%Y-%m-%d')\n",
    "    \n",
    "    for _, row in tqdm(gdf.iterrows()):\n",
    "        lat = row['centroid_coordinates'][0]\n",
    "        lon = row['centroid_coordinates'][1]\n",
    "        tz = '+02:00'\n",
    "        \n",
    "        current_date = start_date\n",
    "        while current_date <= end_date:\n",
    "            date_str = current_date.strftime('%Y-%m-%d')\n",
    "            weather_data = get_daily_weather(lat, lon, date_str, tz)\n",
    "            \n",
    "            if 'error' not in weather_data:\n",
    "                weather_records.append({\n",
    "                    'latitude': lat,\n",
    "                    'longitude': lon,\n",
    "                    'timezone': tz,\n",
    "                    'date': date_str,\n",
    "                    'data': weather_data['data']\n",
    "                })\n",
    "            else:\n",
    "                print(f\"Error fetching data for {lat}, {lon} on {date_str}: {weather_data['error']}\")\n",
    "            \n",
    "            current_date += timedelta(days=7)\n",
    "            time.sleep(1)\n",
    "    \n",
    "    return pd.DataFrame(weather_records)"
   ]
  },
  {
   "cell_type": "code",
   "execution_count": 189,
   "id": "24fa0b6b-5b96-4058-980c-9e9c006224e5",
   "metadata": {},
   "outputs": [],
   "source": [
    "start_date = '2024-01-01'\n",
    "end_date = '2024-12-31'"
   ]
  },
  {
   "cell_type": "code",
   "execution_count": 196,
   "id": "d5ce629d-d04d-4ab6-a7ef-204d988565cb",
   "metadata": {},
   "outputs": [
    {
     "name": "stderr",
     "output_type": "stream",
     "text": [
      "18it [28:26, 94.83s/it]\n"
     ]
    }
   ],
   "source": [
    "weather_df = fetch_weather_for_geodataframe(gdf, start_date, end_date)"
   ]
  },
  {
   "cell_type": "code",
   "execution_count": 223,
   "id": "4df3534e-b9c6-4c41-a40f-675c7af81643",
   "metadata": {},
   "outputs": [
    {
     "name": "stdout",
     "output_type": "stream",
     "text": [
      "<class 'pandas.core.frame.DataFrame'>\n",
      "RangeIndex: 954 entries, 0 to 953\n",
      "Data columns (total 5 columns):\n",
      " #   Column     Non-Null Count  Dtype  \n",
      "---  ------     --------------  -----  \n",
      " 0   latitude   954 non-null    float64\n",
      " 1   longitude  954 non-null    float64\n",
      " 2   timezone   954 non-null    object \n",
      " 3   date       954 non-null    object \n",
      " 4   data       954 non-null    object \n",
      "dtypes: float64(2), object(3)\n",
      "memory usage: 37.4+ KB\n"
     ]
    }
   ],
   "source": [
    "weather_df.info()"
   ]
  },
  {
   "cell_type": "code",
   "execution_count": 255,
   "id": "e451029b-89a9-43f3-9d87-8a43c7978381",
   "metadata": {},
   "outputs": [],
   "source": [
    "def process_weather_data(data):\n",
    "    return {\n",
    "        'cloud_cover': data['cloud_cover']['afternoon'],\n",
    "        'humidity_percentage': data['humidity']['afternoon'],\n",
    "        'precipitation_total_mm': data['precipitation']['total'],\n",
    "        'temperature_min_celsius': data['temperature']['min'],\n",
    "        'temperature_max_celsius': data['temperature']['max'],\n",
    "        'temperature_afternoon_celsius': data['temperature']['afternoon'],\n",
    "        'temperature_night_celsius': data['temperature']['night'],\n",
    "        'temperature_evening_celsius': data['temperature']['evening'],\n",
    "        'temperature_morning_celsius': data['temperature']['morning'],\n",
    "        'pressure_hpa': data['pressure']['afternoon'],\n",
    "        'wind_max_speed_kmh': data['wind']['max']['speed'],\n",
    "        'wind_max_direction_degrees': data['wind']['max']['direction']\n",
    "    }"
   ]
  },
  {
   "cell_type": "code",
   "execution_count": 259,
   "id": "6c18da52-60f9-4334-97f6-36298a5814d8",
   "metadata": {},
   "outputs": [],
   "source": [
    "processed_data = weather_df['data'].apply(process_weather_data)"
   ]
  },
  {
   "cell_type": "code",
   "execution_count": 261,
   "id": "b38d6966-6b09-4cce-ac63-d3ba3b7777a0",
   "metadata": {},
   "outputs": [],
   "source": [
    "processed_df = pd.DataFrame(processed_data.tolist())"
   ]
  },
  {
   "cell_type": "code",
   "execution_count": 265,
   "id": "587f26f1-065b-416c-81d7-a4cda3a43f51",
   "metadata": {},
   "outputs": [],
   "source": [
    "weather_df = pd.concat([weather_df, processed_df], axis=1)"
   ]
  },
  {
   "cell_type": "code",
   "execution_count": 279,
   "id": "1e04fbb9-ce57-4323-ab33-4345a90acbff",
   "metadata": {},
   "outputs": [],
   "source": [
    "gdf[['latitude', 'longitude']] = pd.DataFrame(gdf['centroid_coordinates'].tolist(), index=gdf.index)"
   ]
  },
  {
   "cell_type": "code",
   "execution_count": 283,
   "id": "d545fcc5-81bb-4720-9760-aa69cd148e56",
   "metadata": {},
   "outputs": [],
   "source": [
    "merged_df = pd.merge(gdf, weather_df, on=['latitude', 'longitude'], how='left')"
   ]
  },
  {
   "cell_type": "markdown",
   "id": "2870179f-e0d5-4ee5-985c-c4b4e7e1c1ff",
   "metadata": {},
   "source": [
    "## Saving the data"
   ]
  },
  {
   "cell_type": "code",
   "execution_count": 293,
   "id": "30d0eddc-fa3a-4b6d-9e42-56a39553aa09",
   "metadata": {},
   "outputs": [],
   "source": [
    "gdf_to_save = merged_df[['GID_1', 'GID_0', 'COUNTRY', 'NAME_1', 'VARNAME_1', 'NL_NAME_1',\n",
    "       'TYPE_1', 'ENGTYPE_1', 'CC_1', 'HASC_1', 'ISO_1', 'geometry',\n",
    "       'coordinates', 'centroid_coordinates', 'latitude',\n",
    "       'longitude', 'date', 'cloud_cover',\n",
    "       'humidity_percentage', 'precipitation_total_mm',\n",
    "       'temperature_min_celsius', 'temperature_max_celsius',\n",
    "       'temperature_afternoon_celsius', 'temperature_night_celsius',\n",
    "       'temperature_evening_celsius', 'temperature_morning_celsius',\n",
    "       'pressure_hpa', 'wind_max_speed_kmh', 'wind_max_direction_degrees']].copy().reset_index(drop=True)"
   ]
  },
  {
   "cell_type": "code",
   "execution_count": 301,
   "id": "913e498e-2fcb-41f9-ab4f-cde76e4e7b40",
   "metadata": {},
   "outputs": [],
   "source": [
    "gdf_to_save.drop(columns='geometry').to_csv('data/openweathermap/openweathermap_for_sdn_by_state.csv', index=False)"
   ]
  },
  {
   "cell_type": "code",
   "execution_count": 303,
   "id": "b7d60d32-cb79-4f25-ac25-fb628b3b5080",
   "metadata": {},
   "outputs": [],
   "source": [
    "gdf_to_save.drop(columns='geometry').to_json('data/openweathermap/openweathermap_for_sdn_by_state.json', orient='records')"
   ]
  },
  {
   "cell_type": "code",
   "execution_count": 305,
   "id": "e68c2356-9797-4ac4-bbb8-313d61c0f785",
   "metadata": {},
   "outputs": [
    {
     "name": "stderr",
     "output_type": "stream",
     "text": [
      "/var/folders/g8/tc9k918x5hncpxzn40y8c00h0000gn/T/ipykernel_40978/634884494.py:3: UserWarning: Column names longer than 10 characters will be truncated when saved to ESRI Shapefile.\n",
      "  gdf_to_save.to_file(\"data/openweathermap/openweathermap_for_sdn_by_state.shp\", driver=\"ESRI Shapefile\")\n",
      "/opt/anaconda3/lib/python3.12/site-packages/pyogrio/raw.py:723: RuntimeWarning: Normalized/laundered field name: 'coordinates' to 'coordinate'\n",
      "  ogr_write(\n",
      "/opt/anaconda3/lib/python3.12/site-packages/pyogrio/raw.py:723: RuntimeWarning: Normalized/laundered field name: 'centroid_coordinates' to 'centroid_c'\n",
      "  ogr_write(\n",
      "/opt/anaconda3/lib/python3.12/site-packages/pyogrio/raw.py:723: RuntimeWarning: Normalized/laundered field name: 'cloud_cover' to 'cloud_cove'\n",
      "  ogr_write(\n",
      "/opt/anaconda3/lib/python3.12/site-packages/pyogrio/raw.py:723: RuntimeWarning: Normalized/laundered field name: 'humidity_percentage' to 'humidity_p'\n",
      "  ogr_write(\n",
      "/opt/anaconda3/lib/python3.12/site-packages/pyogrio/raw.py:723: RuntimeWarning: Normalized/laundered field name: 'precipitation_total_mm' to 'precipitat'\n",
      "  ogr_write(\n",
      "/opt/anaconda3/lib/python3.12/site-packages/pyogrio/raw.py:723: RuntimeWarning: Normalized/laundered field name: 'temperature_min_celsius' to 'temperatur'\n",
      "  ogr_write(\n",
      "/opt/anaconda3/lib/python3.12/site-packages/pyogrio/raw.py:723: RuntimeWarning: Normalized/laundered field name: 'temperature_max_celsius' to 'temperat_1'\n",
      "  ogr_write(\n",
      "/opt/anaconda3/lib/python3.12/site-packages/pyogrio/raw.py:723: RuntimeWarning: Normalized/laundered field name: 'temperature_afternoon_celsius' to 'temperat_2'\n",
      "  ogr_write(\n",
      "/opt/anaconda3/lib/python3.12/site-packages/pyogrio/raw.py:723: RuntimeWarning: Normalized/laundered field name: 'temperature_night_celsius' to 'temperat_3'\n",
      "  ogr_write(\n",
      "/opt/anaconda3/lib/python3.12/site-packages/pyogrio/raw.py:723: RuntimeWarning: Normalized/laundered field name: 'temperature_evening_celsius' to 'temperat_4'\n",
      "  ogr_write(\n",
      "/opt/anaconda3/lib/python3.12/site-packages/pyogrio/raw.py:723: RuntimeWarning: Normalized/laundered field name: 'temperature_morning_celsius' to 'temperat_5'\n",
      "  ogr_write(\n",
      "/opt/anaconda3/lib/python3.12/site-packages/pyogrio/raw.py:723: RuntimeWarning: Normalized/laundered field name: 'pressure_hpa' to 'pressure_h'\n",
      "  ogr_write(\n",
      "/opt/anaconda3/lib/python3.12/site-packages/pyogrio/raw.py:723: RuntimeWarning: Normalized/laundered field name: 'wind_max_speed_kmh' to 'wind_max_s'\n",
      "  ogr_write(\n",
      "/opt/anaconda3/lib/python3.12/site-packages/pyogrio/raw.py:723: RuntimeWarning: Normalized/laundered field name: 'wind_max_direction_degrees' to 'wind_max_d'\n",
      "  ogr_write(\n",
      "/opt/anaconda3/lib/python3.12/site-packages/pyogrio/raw.py:723: RuntimeWarning: Value '[[[(32.7365, 13.7191), (32.7335, 13.749), (32.6893, 13.8397), (32.6942, 13.8866), (32.6393, 13.8826), (32.6209, 13.9156), (32.6028, 13.9077), (32.5719, 13.9301), (32.5852, 13.9903), (32.5762, 14.022), (32.5526, 14.071), (32.5549, 14.0894), (32.5781, 14.0941), (32.5618, 14.1096), (32.5722, 14.1634), (32.5139, 14.1802), (32.494, 14.1626), (32.4743, 14.1836), (32.516, 14.2362), (32.5802, 14.2379), (32.5901, 14.2131), (32.6027, 14.2182), (32.5835, 14.2772), (32.5539, 14.2864), (32.5444, 14.3213), (32.5827, 14.3105), (32.591, 14.3201), (32.584, 14.3353), (32.5968, 14.3882), (32.6283, 14.4181), (32.5853, 14.4409), (32.5431, 14.4003), (32.5011, 14.4304), (32.527, 14.4581), (32.5088, 14.4718), (32.4833, 14.4482), (32.4445, 14.4733), (32.4519, 14.4927), (32.4434, 14.5018), (32.486, 14.553), (32.5877, 14.53), (32.6057, 14.5613), (32.6812, 14.5649), (32.7099, 14.583), (32.7756, 14.5865), (32.7878, 14.5732), (32.8017, 14.5806), (32.8209, 14.5761), (32.8343, 14.5973), (32.8047, 14.6404), (32.7968, 14.6376), (32.7738, 14.6719), (32.7652, 14.7187), (32.8024, 14.7313), (32.8177, 14.747), (32.8358, 14.7572), (32.8218, 14.7732), (32.8231, 14.7787), (32.8497, 14.7862), (32.8661, 14.7647), (32.8754, 14.7569), (32.882, 14.739), (32.8951, 14.7354), (32.9037, 14.7814), (32.8859, 14.8024), (32.883, 14.818), (32.8624, 14.8335), (32.8504, 14.8234), (32.8345, 14.832), (32.8104, 14.8177), (32.7421, 14.8628), (32.7263, 14.8554), (32.6787, 14.8846), (32.7019, 14.9081), (32.6247, 14.967), (32.665, 15.0127), (32.6705, 15.0352), (32.7649, 14.9668), (32.7824, 15.0155), (32.7846, 15.0367), (32.7785, 15.0545), (32.7527, 15.0852), (32.7441, 15.1256), (32.6937, 15.1501), (32.6806, 15.1662), (32.6433, 15.1669), (32.6391, 15.1788), (32.5976, 15.1887), (32.5891, 15.1965), (32.5628, 15.1867), (32.481, 15.231), (32.5553, 15.2237), (33.026, 15.265), (33.1464, 15.2639), (33.1982, 15.2434), (33.2798, 15.3343), (33.5158, 15.4613), (33.5905, 15.4318), (33.6256, 15.3956), (33.641, 15.2901), (33.7025, 15.289), (34.0162, 15.1844), (34.2208, 14.8736), (34.2983, 14.7357), (34.2757, 14.672), (34.0857, 14.4036), (34.09, 14.3931), (33.9283, 14.1578), (33.934, 14.1363), (33.9239, 14.1114), (33.9374, 14.0991), (33.9413, 14.0775), (33.9605, 14.051), (33.9663, 14.0147), (33.9887, 14.0042), (33.9873, 13.99), (34.001, 13.9643), (33.7332, 14.0494), (33.723, 14.0889), (33.662, 14.0995), (33.663, 14.073), (33.661, 14.061), (33.652, 14.049), (33.641, 14.046), (33.627, 14.046), (33.6154, 14.0424), (33.612, 14.034), (33.638, 13.991), (33.639, 13.979), (33.633, 13.97), (33.625, 13.965), (33.611, 13.964), (33.599, 13.965), (33.5863, 13.9617), (33.583, 13.955), (33.588, 13.946), (33.612, 13.929), (33.617, 13.92), (33.618, 13.907), (33.6162, 13.8847), (33.5327, 13.8827), (33.5104, 13.8794), (33.4677, 13.8378), (33.4394, 13.828), (33.4198, 13.8362), (33.4127, 13.8532), (33.4554, 13.8745), (33.4586, 13.8878), (33.3529, 13.8942), (33.3382, 14.0109), (33.2818, 14.0322), (33.2702, 14.0431), (33.2575, 14.0486), (33.237, 14.049), (33.2231, 14.0379), (33.2035, 14.0488), (33.1826, 14.0469), (33.1616, 14.0422), (33.1361, 14.031), (33.1235, 14.0323), (33.1261, 14.0608), (33.0772, 14.0588), (33.0662, 14.0188), (33.0663, 14.0008), (33.0613, 13.9852), (33.0539, 13.9723), (33.0635, 13.9062), (33.0633, 13.8575), (33.0792, 13.8356), (33.0877, 13.8195), (33.1041, 13.8017), (33.0873, 13.7952), (33.058, 13.7909), (33.0236, 13.7742), (32.9832, 13.7409), (32.9726, 13.7189), (32.9607, 13.6839), (32.9756, 13.5907), (32.7832, 13.5829), (32.739, 13.5846), (32.7143, 13.6804), (32.7365, 13.7191)]]]' of field coordinate has been truncated to 254 characters.  This warning will not be emitted any more for that layer.\n",
      "  ogr_write(\n"
     ]
    }
   ],
   "source": [
    "gdf_to_save.to_file(\"data/openweathermap/openweathermap_for_sdn_by_state.geojson\", driver=\"GeoJSON\")\n",
    "\n",
    "gdf_to_save.to_file(\"data/openweathermap/openweathermap_for_sdn_by_state.shp\", driver=\"ESRI Shapefile\")"
   ]
  },
  {
   "cell_type": "code",
   "execution_count": null,
   "id": "93ad0fc9-9f34-44c4-91a3-fb8fb9e4cfa8",
   "metadata": {},
   "outputs": [],
   "source": []
  }
 ],
 "metadata": {
  "kernelspec": {
   "display_name": "Python [conda env:base] *",
   "language": "python",
   "name": "conda-base-py"
  },
  "language_info": {
   "codemirror_mode": {
    "name": "ipython",
    "version": 3
   },
   "file_extension": ".py",
   "mimetype": "text/x-python",
   "name": "python",
   "nbconvert_exporter": "python",
   "pygments_lexer": "ipython3",
   "version": "3.12.7"
  }
 },
 "nbformat": 4,
 "nbformat_minor": 5
}
